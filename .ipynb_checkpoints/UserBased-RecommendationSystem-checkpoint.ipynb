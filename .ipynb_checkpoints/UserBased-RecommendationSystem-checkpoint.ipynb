{
 "cells": [
  {
   "cell_type": "markdown",
   "id": "3c73abe4",
   "metadata": {},
   "source": [
    "### User based recommendation System \n",
    "\n",
    "- This code is to build a user based recommendation system.\n",
    "- It will recommend users new locations like museums, monuments, events etc.. that they have never seen before\n",
    "- The dataset is just a small mackup data but the system can potentially work with any dataset of the same format"
   ]
  },
  {
   "cell_type": "code",
   "execution_count": 38,
   "id": "1832860a",
   "metadata": {},
   "outputs": [],
   "source": [
    "import json\n",
    "data = json.load(open('data/data.json'))"
   ]
  },
  {
   "cell_type": "code",
   "execution_count": 39,
   "id": "dcf94d5f",
   "metadata": {},
   "outputs": [
    {
     "name": "stdout",
     "output_type": "stream",
     "text": [
      "Alket 6\n",
      "Paolo 6\n",
      "Maurizio 4\n",
      "Simone 5\n",
      "Francesco 6\n",
      "Marco 5\n",
      "Mirko 3\n"
     ]
    }
   ],
   "source": [
    "for i, k in data.items():\n",
    "    print(i, len(list(k.items())))"
   ]
  },
  {
   "cell_type": "code",
   "execution_count": 40,
   "id": "c14a4026",
   "metadata": {},
   "outputs": [
    {
     "data": {
      "text/plain": [
       "2.5"
      ]
     },
     "execution_count": 40,
     "metadata": {},
     "output_type": "execute_result"
    }
   ],
   "source": [
    "# accessing the value of rating\n",
    "data['Alket']['Museo delle cere']"
   ]
  },
  {
   "cell_type": "markdown",
   "id": "f9cf25d5",
   "metadata": {},
   "source": [
    "### Finding Similar Users\n",
    "\n",
    "- After collecting data about the things people like, you need a way to determine how similar people are in their tastes. You do this by comparing each person with every other person and calculating a similarity score. \n",
    "\n",
    "\n",
    "- there are two systems for calculating similarity scores: Euclidean distance and Pearson correlation."
   ]
  },
  {
   "cell_type": "markdown",
   "id": "f1f813d8",
   "metadata": {},
   "source": [
    "### Using Euclidean distance"
   ]
  },
  {
   "cell_type": "code",
   "execution_count": 41,
   "id": "42f5beb8",
   "metadata": {},
   "outputs": [],
   "source": [
    "from math import sqrt\n",
    "\n",
    "# Returns a distance-based similarity score for person1 and person2\n",
    "def sim_distance(prefs, person1, person2):\n",
    "    \n",
    "    # Get the list of shared_items\n",
    "    shared_items={}\n",
    "    for item in prefs[person1]:\n",
    "        if item in prefs[person2]:\n",
    "            shared_items[item]=1\n",
    " \n",
    "    print(shared_items)\n",
    "    \n",
    "    \n",
    "    # if they have no ratings in common, return 0\n",
    "    if len(shared_items)== 0: \n",
    "        return 0\n",
    "\n",
    "    # Add up the squares of all the differences\n",
    "    sum_of_squares=sum([pow(prefs[person1][item]-prefs[person2][item],2) for item in shared_items])\n",
    "\n",
    "    return 1/(1+sqrt(sum_of_squares))"
   ]
  },
  {
   "cell_type": "code",
   "execution_count": 42,
   "id": "db6f90fb",
   "metadata": {},
   "outputs": [
    {
     "name": "stdout",
     "output_type": "stream",
     "text": [
      "{'Museo delle cere': 1, 'Duomo di Bologna': 1, 'Piazza Nettuno': 1, 'Punto Panoramico San Luca': 1, 'Mercato delle spezie': 1, 'Teatro Valli': 1}\n"
     ]
    },
    {
     "data": {
      "text/plain": [
       "0.4142135623730951"
      ]
     },
     "execution_count": 42,
     "metadata": {},
     "output_type": "execute_result"
    }
   ],
   "source": [
    "sim_distance(data, 'Alket','Francesco')"
   ]
  },
  {
   "cell_type": "markdown",
   "id": "9dc63ffb",
   "metadata": {},
   "source": [
    "### Using Pearson correlation"
   ]
  },
  {
   "cell_type": "code",
   "execution_count": 43,
   "id": "1f6f535c",
   "metadata": {},
   "outputs": [],
   "source": [
    "# Returns the Pearson correlation coefficient for p1 and p2\n",
    "def sim_pearson(prefs,p1,p2):\n",
    "    # Get the list of mutually rated items\n",
    "    si={}\n",
    "    for item in prefs[p1]:\n",
    "        if item in prefs[p2]: si[item]=1\n",
    "\n",
    "    # Find the number of elements\n",
    "    n=len(si)\n",
    "\n",
    "    # if they have no ratings in common, return 0\n",
    "    if n==0: return 0\n",
    "\n",
    "    # Add up all the preferences\n",
    "    sum1=sum([prefs[p1][it] for it in si])\n",
    "    sum2=sum([prefs[p2][it] for it in si])\n",
    "\n",
    "    # Sum up the squares\n",
    "    sum1Sq=sum([pow(prefs[p1][it],2) for it in si])\n",
    "    sum2Sq=sum([pow(prefs[p2][it],2) for it in si])\n",
    "\n",
    "    # Sum up the products\n",
    "    pSum=sum([prefs[p1][it]*prefs[p2][it] for it in si])\n",
    "\n",
    "    # Calculate Pearson score\n",
    "    num=pSum - (sum1*sum2/n)\n",
    "    den=sqrt((sum1Sq - pow(sum1,2)/n)*(sum2Sq - pow(sum2,2)/n))\n",
    "    if den==0: return 0\n",
    "    r=num/den\n",
    "\n",
    "    return r"
   ]
  },
  {
   "cell_type": "code",
   "execution_count": 44,
   "id": "11b43d81",
   "metadata": {},
   "outputs": [
    {
     "data": {
      "text/plain": [
       "0.6482037235521628"
      ]
     },
     "execution_count": 44,
     "metadata": {},
     "output_type": "execute_result"
    }
   ],
   "source": [
    "sim_pearson(data,'Alket','Francesco')"
   ]
  },
  {
   "cell_type": "code",
   "execution_count": 45,
   "id": "480409ce",
   "metadata": {},
   "outputs": [],
   "source": [
    "# Returns the best matches for person from the prefs dictionary.\n",
    "# Number of results and similarity function are optional params.\n",
    "def topMatches(prefs,person,n=5,similarity=sim_pearson):\n",
    "    \n",
    "    scores=[(similarity(prefs,person,other),other) for other in prefs if other!=person]\n",
    "\n",
    "    # Sort the list so the highest scores appear at the top\n",
    "    scores.sort(  )\n",
    "    scores.reverse(  )\n",
    "    return scores[0:n]"
   ]
  },
  {
   "cell_type": "code",
   "execution_count": 46,
   "id": "a518bdf9",
   "metadata": {},
   "outputs": [
    {
     "data": {
      "text/plain": [
       "[(0.6482037235521628, 'Francesco'),\n",
       " (-0.10714285714285597, 'Marco'),\n",
       " (-0.13483997249264842, 'Maurizio')]"
      ]
     },
     "execution_count": 46,
     "metadata": {},
     "output_type": "execute_result"
    }
   ],
   "source": [
    "topMatches(data,'Alket',n=3)"
   ]
  },
  {
   "cell_type": "markdown",
   "id": "02b21eb7",
   "metadata": {},
   "source": [
    "### Recommending Items\n",
    "- Finding a good critic to read is great, but what I really want is a movie recommendation right now. I could just look at the person who has tastes most similar to mine and look for a movie he likes that I haven’t seen yet, but that would be too permissive. Such an approach could accidentally turn up reviewers who haven’t reviewed some of the movies that I might like. It could also return a reviewer who strangely liked a movie that got bad reviews from all the other critics returned by topMatches.\n",
    "\n",
    "- To solve these issues, you need to score the items by producing a weighted score that ranks the critics. Take the votes of all the other critics and multiply how similar they are to me by the score they gave each movie"
   ]
  },
  {
   "cell_type": "code",
   "execution_count": 47,
   "id": "145d81cc",
   "metadata": {},
   "outputs": [],
   "source": [
    "# Gets recommendations for a person by using a weighted average\n",
    "# of every other user's rankings\n",
    "def getRecommendations(prefs,person,similarity=sim_pearson):\n",
    "    totals={}\n",
    "    simSums={}\n",
    "    for other in prefs:\n",
    "        # don't compare me to myself\n",
    "        if other==person: continue\n",
    "        sim=similarity(prefs,person,other)\n",
    "\n",
    "        # ignore scores of zero or lower\n",
    "        if sim<=0: continue\n",
    "        for item in prefs[other]:\n",
    "\n",
    "            # only score movies I haven't seen yet\n",
    "            if item not in prefs[person] or prefs[person][item]==0:\n",
    "            # Similarity * Score\n",
    "                totals.setdefault(item,0)\n",
    "                totals[item]+=prefs[other][item]*sim\n",
    "                # Sum of similarities\n",
    "                simSums.setdefault(item,0)\n",
    "                simSums[item]+=sim\n",
    "\n",
    "    # Create the normalized list\n",
    "    rankings=[(total/simSums[item],item) for item,total in totals.items(  )]\n",
    "\n",
    "    # Return the sorted list\n",
    "    rankings.sort(  )\n",
    "    rankings.reverse(  )\n",
    "    return rankings"
   ]
  },
  {
   "cell_type": "code",
   "execution_count": 49,
   "id": "37c9d615",
   "metadata": {},
   "outputs": [
    {
     "data": {
      "text/plain": [
       "[(4.5, 'Piazza Nettuno'),\n",
       " (4.0, 'Punto Panoramico San Luca'),\n",
       " (2.5, 'Mercato delle spezie')]"
      ]
     },
     "execution_count": 49,
     "metadata": {},
     "output_type": "execute_result"
    }
   ],
   "source": [
    "getRecommendations(data,'Mirko')"
   ]
  },
  {
   "cell_type": "code",
   "execution_count": null,
   "id": "62058d0a",
   "metadata": {},
   "outputs": [],
   "source": []
  },
  {
   "cell_type": "code",
   "execution_count": null,
   "id": "31df913c",
   "metadata": {},
   "outputs": [],
   "source": []
  },
  {
   "cell_type": "code",
   "execution_count": null,
   "id": "c7ccef22",
   "metadata": {},
   "outputs": [],
   "source": []
  },
  {
   "cell_type": "code",
   "execution_count": null,
   "id": "6667498f",
   "metadata": {},
   "outputs": [],
   "source": []
  },
  {
   "cell_type": "code",
   "execution_count": null,
   "id": "a8e9f340",
   "metadata": {},
   "outputs": [],
   "source": []
  }
 ],
 "metadata": {
  "kernelspec": {
   "display_name": "Python 3",
   "language": "python",
   "name": "python3"
  },
  "language_info": {
   "codemirror_mode": {
    "name": "ipython",
    "version": 3
   },
   "file_extension": ".py",
   "mimetype": "text/x-python",
   "name": "python",
   "nbconvert_exporter": "python",
   "pygments_lexer": "ipython3",
   "version": "3.9.5"
  }
 },
 "nbformat": 4,
 "nbformat_minor": 5
}
